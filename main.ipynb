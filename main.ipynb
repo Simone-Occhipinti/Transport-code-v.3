{
 "cells": [
  {
   "cell_type": "markdown",
   "metadata": {},
   "source": [
    "Main Transport code"
   ]
  },
  {
   "cell_type": "code",
   "execution_count": 1,
   "metadata": {},
   "outputs": [],
   "source": [
    "import numpy as np\n",
    "import numpy.random as round\n",
    "from math import pi\n",
    "import matplotlib.pyplot as plt\n",
    "\n",
    "from models import globalvariables as GV\n",
    "from models import geometry_models as geo_m\n",
    "from models import physic_model as phy_m\n",
    "from models import material_model as mat_m\n",
    "from models import statistic_model as stat_m\n",
    "\n",
    "from controllers import geometry_controller as geo_c\n",
    "from controllers import physics_controller as phy_c\n",
    "from controllers import material_controller as mat_c\n",
    "from controllers import statistic_controller as stat_c"
   ]
  },
  {
   "cell_type": "markdown",
   "metadata": {},
   "source": [
    "Import data"
   ]
  },
  {
   "cell_type": "code",
   "execution_count": 2,
   "metadata": {},
   "outputs": [],
   "source": [
    "Cnat_total = np.loadtxt('cross_sections_Janis\\\\C\\\\Cnat_total.csv', delimiter=';',skiprows=3)\n",
    "Cnat_scattering = np.loadtxt('cross_sections_Janis\\\\C\\\\Cnat_scattering.csv', delimiter=';', skiprows=3)\n",
    "\n",
    "Fe_total = np.loadtxt('cross_sections_Janis\\\\Fe\\\\Fe_total.csv', delimiter=';',skiprows=3)\n",
    "Fe_scattering = np.loadtxt('cross_sections_Janis\\\\Fe\\\\Fe_scattering.csv', delimiter=';', skiprows=3)\n",
    "\n",
    "Onat_total = np.loadtxt('cross_sections_Janis\\\\O\\\\Onat_total.csv', delimiter=';',skiprows=3)\n",
    "Onat_scattering = np.loadtxt('cross_sections_Janis\\\\O\\\\Onat_scattering.csv', delimiter=';', skiprows=3)\n",
    "\n",
    "U238_total = np.loadtxt('cross_sections_Janis\\\\U238\\\\U238_total.csv', delimiter=';',skiprows=3)\n",
    "U238_scattering = np.loadtxt('cross_sections_Janis\\\\U238\\\\U238_scattering.csv', delimiter=';', skiprows=3)\n",
    "U238_fission = np.loadtxt('cross_sections_Janis\\\\U238\\\\U238_fission.csv', delimiter=';', skiprows=3)\n",
    "\n",
    "U235_total = np.loadtxt('cross_sections_Janis\\\\U235\\\\U235_total.csv', delimiter=';',skiprows=3)\n",
    "U235_scattering = np.loadtxt('cross_sections_Janis\\\\U235\\\\U235_scattering.csv', delimiter=';', skiprows=3)\n",
    "U235_fission = np.loadtxt('cross_sections_Janis\\\\U235\\\\U235_fission.csv', delimiter=';', skiprows=3)"
   ]
  },
  {
   "cell_type": "markdown",
   "metadata": {},
   "source": [
    "Create isotopes"
   ]
  },
  {
   "cell_type": "code",
   "execution_count": 3,
   "metadata": {},
   "outputs": [],
   "source": [
    "carbon = mat_m.isotope(6,12,1.1E23,Cnat_total[:,0],Cnat_total[:,1],Cnat_scattering[:,1])\n",
    "iron = mat_m.isotope(26,56,8.6E22,Fe_total[:,0],Fe_total[:,1],Fe_scattering[:,1])\n",
    "uranium238 = mat_m.isotope(92,238,1.76E22,U238_total[:,0],U238_total[:,1],U238_scattering[:,1],U238_fission[:,1],2.5)\n",
    "uranium235 = mat_m.isotope(92,235,4.4E21,U235_total[:,0],U235_total[:,1],U235_scattering[:,1],U235_fission[:,1],2.5)\n",
    "p_source = geo_m.point(GV.SOURCE_POSITION)\n",
    "source = phy_m.source([p_source],1.,'watt')"
   ]
  },
  {
   "cell_type": "markdown",
   "metadata": {},
   "source": [
    "Create materials"
   ]
  },
  {
   "cell_type": "code",
   "execution_count": 4,
   "metadata": {},
   "outputs": [],
   "source": [
    "core_list = [carbon]\n",
    "core = mat_m.material(core_list)\n",
    "reflector_list = [iron,carbon]\n",
    "reflector = mat_m.material(reflector_list)"
   ]
  },
  {
   "cell_type": "markdown",
   "metadata": {},
   "source": [
    "Tally creation"
   ]
  },
  {
   "cell_type": "code",
   "execution_count": 5,
   "metadata": {},
   "outputs": [],
   "source": [
    "distribution = [(core,0,10),(reflector,10,30)]\n",
    "domain = geo_m.domain(distribution,GV.LL,30,GV.EE,1000,True)\n",
    "tally = stat_m.tally(GV.LL,30,GV.EE,1000,True)"
   ]
  },
  {
   "cell_type": "markdown",
   "metadata": {},
   "source": [
    "Monte Carlo Code"
   ]
  },
  {
   "cell_type": "code",
   "execution_count": 6,
   "metadata": {},
   "outputs": [],
   "source": [
    "while tally.iter <= GV.Nstories:\n",
    "    # scelgo la particella da simulare\n",
    "    nn = phy_c.choose_new_particle(source,1.,tally)\n",
    "    while nn.eof > 0:\n",
    "        nn.position = phy_c.sample_free_flight(nn,domain)\n",
    "        if geo_c.is_outofbound(nn,'space') == True:\n",
    "            nn.eof = 0\n",
    "        else:\n",
    "            stat_c.new_interaction(tally,nn,domain)\n",
    "            # aggiorno i dati della particella dopo l'interazione\n",
    "            nn.energy = phy_c.sample_energy_stepf(nn,domain)\n",
    "            nn.direction = geo_m.direction.get_rnd_direction()\n",
    "            nn.weight = phy_c.new_weight(nn,domain)\n",
    "            # controllo l'energia\n",
    "            if geo_c.is_outofbound(nn,'energy') is True:\n",
    "                nn.eof = 0\n",
    "            else:\n",
    "                # russian roulette e splitting\n",
    "                stat_c.russian_roulette(nn)\n",
    "                stat_c.splitting(nn)"
   ]
  },
  {
   "cell_type": "markdown",
   "metadata": {},
   "source": [
    "Results processing"
   ]
  },
  {
   "cell_type": "code",
   "execution_count": 7,
   "metadata": {},
   "outputs": [
    {
     "data": {
      "image/png": "[encoded data removed]",
      "text/plain": [
       "<Figure size 640x480 with 1 Axes>"
      ]
     },
     "metadata": {},
     "output_type": "display_data"
    }
   ],
   "source": [
    "avg,var = stat_c.generate_sample_average(tally,'energy',GV.Groups)\n",
    "jj = len(GV.Groups)\n",
    "for ii in range(len(avg)):\n",
    "    jj-=1\n",
    "    plt.errorbar(tally.spacerange[2:], avg[ii][0:28], yerr=var[ii][0:28], fmt='o', capsize=5)\n",
    "    plt.plot(tally.spacerange[2:],avg[ii][0:28], label='Group{}'.format(jj))\n",
    "plt.xlabel('position [cm]')\n",
    "plt.ylabel(r'$\\Phi$ [n/cm3/s/eV]')\n",
    "#plt.xscale('log')\n",
    "#plt.yscale('log')\n",
    "plt.legend()\n",
    "plt.show()"
   ]
  },
  {
   "cell_type": "code",
   "execution_count": 8,
   "metadata": {},
   "outputs": [
    {
     "name": "stdout",
     "output_type": "stream",
     "text": [
      "[2.49864284e-04 8.10166694e-05 4.47367856e-05 2.89927891e-05\n",
      " 2.02438546e-05 1.48124885e-05 1.11225631e-05 8.49086317e-06\n",
      " 6.64064782e-06 4.42071866e-06 1.81794716e-06 1.23209769e-06\n",
      " 8.76918304e-07 6.42912523e-07 4.85355969e-07 3.65772526e-07\n",
      " 2.86630809e-07 2.26344600e-07 1.80260311e-07 1.46112719e-07\n",
      " 1.18583384e-07 9.80489716e-08 8.04120528e-08 6.79488436e-08\n",
      " 5.79152589e-08 5.08451063e-08 4.33713124e-08 3.81521310e-08\n",
      " 3.35231136e-08]\n"
     ]
    }
   ],
   "source": [
    "for ii in avg:\n",
    "    print(ii)"
   ]
  }
 ],
 "metadata": {
  "kernelspec": {
   "display_name": "base",
   "language": "python",
   "name": "python3"
  },
  "language_info": {
   "codemirror_mode": {
    "name": "ipython",
    "version": 3
   },
   "file_extension": ".py",
   "mimetype": "text/x-python",
   "name": "python",
   "nbconvert_exporter": "python",
   "pygments_lexer": "ipython3",
   "version": "3.10.12"
  }
 },
 "nbformat": 4,
 "nbformat_minor": 2
}
