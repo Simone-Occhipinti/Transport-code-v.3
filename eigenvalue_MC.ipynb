{
 "cells": [
  {
   "cell_type": "markdown",
   "metadata": {},
   "source": [
    "Eigenvalue MC code"
   ]
  },
  {
   "cell_type": "code",
   "execution_count": 1,
   "metadata": {},
   "outputs": [],
   "source": [
    "import numpy as np\n",
    "import numpy.random as rnd\n",
    "import matplotlib.pyplot as plt\n",
    "import os\n",
    "\n",
    "from models import globalvariables as GV\n",
    "from models import geometry_models as geo_m\n",
    "from models import physic_model as phy_m\n",
    "from models import material_model as mat_m\n",
    "from models import statistic_model as stat_m\n",
    "\n",
    "from controllers import geometry_controller as geo_c\n",
    "from controllers import physics_controller as phy_c\n",
    "from controllers import material_controller as mat_c\n",
    "from controllers import statistic_controller as stat_c"
   ]
  },
  {
   "cell_type": "markdown",
   "metadata": {},
   "source": [
    "Import data"
   ]
  },
  {
   "cell_type": "code",
   "execution_count": 2,
   "metadata": {},
   "outputs": [],
   "source": [
    "# Base directory\n",
    "base_dir = 'cross_sections_Janis'\n",
    "\n",
    "U238_total = np.loadtxt(os.path.join(base_dir, 'U238', 'U238_total.csv'), delimiter=';', skiprows=3)\n",
    "U238_scattering = np.loadtxt(os.path.join(base_dir, 'U238', 'U238_scattering.csv'), delimiter=';', skiprows=3)\n",
    "U238_fission = np.loadtxt(os.path.join(base_dir, 'U238', 'U238_fission.csv'), delimiter=';', skiprows=3)\n",
    "U238_nu = np.loadtxt(os.path.join(base_dir, 'U238', 'U238_nu.csv'), delimiter=';', skiprows=3)\n",
    "\n",
    "U235_total = np.loadtxt(os.path.join(base_dir, 'U235', 'U235_total.csv'), delimiter=';', skiprows=3)\n",
    "U235_scattering = np.loadtxt(os.path.join(base_dir, 'U235', 'U235_scattering.csv'), delimiter=';', skiprows=3)\n",
    "U235_fission = np.loadtxt(os.path.join(base_dir, 'U235', 'U235_fission.csv'), delimiter=';', skiprows=3)\n",
    "U235_nu = np.loadtxt(os.path.join(base_dir, 'U235', 'U235_nu.csv'), delimiter=';', skiprows=3)\n",
    "\n",
    "U234_total = np.loadtxt(os.path.join(base_dir, 'U234', 'U234_total.csv'), delimiter=';', skiprows=3)\n",
    "U234_scattering = np.loadtxt(os.path.join(base_dir, 'U234', 'U234_scattering.csv'), delimiter=';', skiprows=3)\n",
    "U234_fission = np.loadtxt(os.path.join(base_dir, 'U234', 'U234_fission.csv'), delimiter=';', skiprows=3)\n",
    "U234_nu = np.loadtxt(os.path.join(base_dir, 'U234', 'U234_nu.csv'), delimiter=';', skiprows=3)"
   ]
  },
  {
   "cell_type": "markdown",
   "metadata": {},
   "source": [
    "Create isotopes"
   ]
  },
  {
   "cell_type": "code",
   "execution_count": 3,
   "metadata": {},
   "outputs": [],
   "source": [
    "uranium238 = mat_m.isotope(92,238,4.4984E21,U238_total[:,0],U238_total[:,1],U238_scattering[:,1],U238_fission[:,1],U238_nu[:,1])\n",
    "uranium235 = mat_m.isotope(92,235,4.4994E22,U235_total[:,0],U235_total[:,1],U235_scattering[:,1],U235_fission[:,1],U235_nu[:,1])\n",
    "uranium234 = mat_m.isotope(92,234,4.9184E20,U234_total[:,0],U234_total[:,1],U234_scattering[:,1],U234_fission[:,1],U234_nu[:,1])\n",
    "source = phy_m.source(GV.Nstories,GV.LL,100,'watt')\n",
    "particle_squeue = []"
   ]
  },
  {
   "cell_type": "markdown",
   "metadata": {},
   "source": [
    "Create materials"
   ]
  },
  {
   "cell_type": "code",
   "execution_count": 4,
   "metadata": {},
   "outputs": [],
   "source": [
    "core_list = [uranium238, uranium235, uranium234]\n",
    "core = mat_m.material(core_list)"
   ]
  },
  {
   "cell_type": "markdown",
   "metadata": {},
   "source": [
    "Tally creations"
   ]
  },
  {
   "cell_type": "code",
   "execution_count": 5,
   "metadata": {},
   "outputs": [],
   "source": [
    "distribution = [(core,0,GV.LEnd)]\n",
    "domain = geo_m.domain(distribution,GV.LL,1000,GV.EE,1000,True)\n",
    "tally = stat_m.tally(GV.LL,2)\n",
    "KK = [GV.Kin,GV.Kin]\n",
    "HH = []\n",
    "Keff = KK[-1]"
   ]
  },
  {
   "cell_type": "markdown",
   "metadata": {},
   "source": [
    "Monte Carlo code"
   ]
  },
  {
   "cell_type": "code",
   "execution_count": 6,
   "metadata": {},
   "outputs": [
    {
     "ename": "KeyboardInterrupt",
     "evalue": "",
     "output_type": "error",
     "traceback": [
      "\u001b[1;31m---------------------------------------------------------------------------\u001b[0m",
      "\u001b[1;31mKeyboardInterrupt\u001b[0m                         Traceback (most recent call last)",
      "Cell \u001b[1;32mIn[6], line 3\u001b[0m\n\u001b[0;32m      1\u001b[0m \u001b[38;5;28;01mfor\u001b[39;00m ii \u001b[38;5;129;01min\u001b[39;00m \u001b[38;5;28mrange\u001b[39m(\u001b[38;5;28mint\u001b[39m(GV\u001b[38;5;241m.\u001b[39mNskip)):\n\u001b[0;32m      2\u001b[0m     phy_c\u001b[38;5;241m.\u001b[39minitialize_population(source,particle_squeue,domain)\n\u001b[1;32m----> 3\u001b[0m     Keff \u001b[38;5;241m=\u001b[39m \u001b[43mKK\u001b[49m[\u001b[38;5;241m-\u001b[39m\u001b[38;5;241m1\u001b[39m]\n\u001b[0;32m      4\u001b[0m     Knew \u001b[38;5;241m=\u001b[39m \u001b[38;5;241m0\u001b[39m\n\u001b[0;32m      5\u001b[0m     source\u001b[38;5;241m.\u001b[39mreset_source()\n",
      "Cell \u001b[1;32mIn[6], line 3\u001b[0m\n\u001b[0;32m      1\u001b[0m \u001b[38;5;28;01mfor\u001b[39;00m ii \u001b[38;5;129;01min\u001b[39;00m \u001b[38;5;28mrange\u001b[39m(\u001b[38;5;28mint\u001b[39m(GV\u001b[38;5;241m.\u001b[39mNskip)):\n\u001b[0;32m      2\u001b[0m     phy_c\u001b[38;5;241m.\u001b[39minitialize_population(source,particle_squeue,domain)\n\u001b[1;32m----> 3\u001b[0m     Keff \u001b[38;5;241m=\u001b[39m \u001b[43mKK\u001b[49m[\u001b[38;5;241m-\u001b[39m\u001b[38;5;241m1\u001b[39m]\n\u001b[0;32m      4\u001b[0m     Knew \u001b[38;5;241m=\u001b[39m \u001b[38;5;241m0\u001b[39m\n\u001b[0;32m      5\u001b[0m     source\u001b[38;5;241m.\u001b[39mreset_source()\n",
      "File \u001b[1;32m_pydevd_bundle/pydevd_cython.pyx:1457\u001b[0m, in \u001b[0;36m_pydevd_bundle.pydevd_cython.SafeCallWrapper.__call__\u001b[1;34m()\u001b[0m\n",
      "File \u001b[1;32m_pydevd_bundle/pydevd_cython.pyx:701\u001b[0m, in \u001b[0;36m_pydevd_bundle.pydevd_cython.PyDBFrame.trace_dispatch\u001b[1;34m()\u001b[0m\n",
      "File \u001b[1;32m_pydevd_bundle/pydevd_cython.pyx:1395\u001b[0m, in \u001b[0;36m_pydevd_bundle.pydevd_cython.PyDBFrame.trace_dispatch\u001b[1;34m()\u001b[0m\n",
      "File \u001b[1;32m_pydevd_bundle/pydevd_cython.pyx:1344\u001b[0m, in \u001b[0;36m_pydevd_bundle.pydevd_cython.PyDBFrame.trace_dispatch\u001b[1;34m()\u001b[0m\n",
      "File \u001b[1;32m_pydevd_bundle/pydevd_cython.pyx:312\u001b[0m, in \u001b[0;36m_pydevd_bundle.pydevd_cython.PyDBFrame.do_wait_suspend\u001b[1;34m()\u001b[0m\n",
      "File \u001b[1;32mc:\\Users\\simon\\.julia\\conda\\3\\x86_64\\lib\\site-packages\\debugpy\\_vendored\\pydevd\\pydevd.py:2070\u001b[0m, in \u001b[0;36mPyDB.do_wait_suspend\u001b[1;34m(self, thread, frame, event, arg, exception_type)\u001b[0m\n\u001b[0;32m   2067\u001b[0m             from_this_thread\u001b[38;5;241m.\u001b[39mappend(frame_custom_thread_id)\n\u001b[0;32m   2069\u001b[0m     \u001b[38;5;28;01mwith\u001b[39;00m \u001b[38;5;28mself\u001b[39m\u001b[38;5;241m.\u001b[39m_threads_suspended_single_notification\u001b[38;5;241m.\u001b[39mnotify_thread_suspended(thread_id, thread, stop_reason):\n\u001b[1;32m-> 2070\u001b[0m         keep_suspended \u001b[38;5;241m=\u001b[39m \u001b[38;5;28;43mself\u001b[39;49m\u001b[38;5;241;43m.\u001b[39;49m\u001b[43m_do_wait_suspend\u001b[49m\u001b[43m(\u001b[49m\u001b[43mthread\u001b[49m\u001b[43m,\u001b[49m\u001b[43m \u001b[49m\u001b[43mframe\u001b[49m\u001b[43m,\u001b[49m\u001b[43m \u001b[49m\u001b[43mevent\u001b[49m\u001b[43m,\u001b[49m\u001b[43m \u001b[49m\u001b[43marg\u001b[49m\u001b[43m,\u001b[49m\u001b[43m \u001b[49m\u001b[43msuspend_type\u001b[49m\u001b[43m,\u001b[49m\u001b[43m \u001b[49m\u001b[43mfrom_this_thread\u001b[49m\u001b[43m,\u001b[49m\u001b[43m \u001b[49m\u001b[43mframes_tracker\u001b[49m\u001b[43m)\u001b[49m\n\u001b[0;32m   2072\u001b[0m frames_list \u001b[38;5;241m=\u001b[39m \u001b[38;5;28;01mNone\u001b[39;00m\n\u001b[0;32m   2074\u001b[0m \u001b[38;5;28;01mif\u001b[39;00m keep_suspended:\n\u001b[0;32m   2075\u001b[0m     \u001b[38;5;66;03m# This means that we should pause again after a set next statement.\u001b[39;00m\n",
      "File \u001b[1;32mc:\\Users\\simon\\.julia\\conda\\3\\x86_64\\lib\\site-packages\\debugpy\\_vendored\\pydevd\\pydevd.py:2106\u001b[0m, in \u001b[0;36mPyDB._do_wait_suspend\u001b[1;34m(self, thread, frame, event, arg, suspend_type, from_this_thread, frames_tracker)\u001b[0m\n\u001b[0;32m   2103\u001b[0m         \u001b[38;5;28mself\u001b[39m\u001b[38;5;241m.\u001b[39m_call_input_hook()\n\u001b[0;32m   2105\u001b[0m     \u001b[38;5;28mself\u001b[39m\u001b[38;5;241m.\u001b[39mprocess_internal_commands()\n\u001b[1;32m-> 2106\u001b[0m     \u001b[43mtime\u001b[49m\u001b[38;5;241;43m.\u001b[39;49m\u001b[43msleep\u001b[49m\u001b[43m(\u001b[49m\u001b[38;5;241;43m0.01\u001b[39;49m\u001b[43m)\u001b[49m\n\u001b[0;32m   2108\u001b[0m \u001b[38;5;28mself\u001b[39m\u001b[38;5;241m.\u001b[39mcancel_async_evaluation(get_current_thread_id(thread), \u001b[38;5;28mstr\u001b[39m(\u001b[38;5;28mid\u001b[39m(frame)))\n\u001b[0;32m   2110\u001b[0m \u001b[38;5;66;03m# process any stepping instructions\u001b[39;00m\n",
      "\u001b[1;31mKeyboardInterrupt\u001b[0m: "
     ]
    }
   ],
   "source": [
    "for ii in range(int(GV.Nskip)):\n",
    "    phy_c.initialize_population(source,particle_squeue,domain)\n",
    "    Keff = KK[-1]\n",
    "    Knew = 0\n",
    "    source.reset_source()\n",
    "    print(ii)\n",
    "    while len(particle_squeue)>0:\n",
    "        nn = particle_squeue.pop(0)\n",
    "        while nn.eof > 0:\n",
    "            nn.position = phy_c.sample_free_flight(nn,domain)\n",
    "            if geo_c.is_outofbound(nn,'space'):\n",
    "                nn.eof = 0\n",
    "            else:\n",
    "                Knew += phy_c.implicit_fission(nn,domain,source, Keff)\n",
    "                # aggiorno i dati della particella dopo l'interazione\n",
    "                nn.energy = phy_c.sample_energy_stepf(nn,domain)\n",
    "                nn.direction = geo_m.direction.get_rnd_direction()\n",
    "                nn.weight = phy_c.implicit_capture(nn,domain)\n",
    "                # controllo l'energia\n",
    "                if geo_c.is_outofbound(nn,'energy') is True:\n",
    "                    nn.eof = 0\n",
    "                else:\n",
    "                    # russian roulette e splitting\n",
    "                    stat_c.russian_roulette(nn)\n",
    "                    stat_c.splitting(nn,particle_squeue)\n",
    "    HH.append(source.s_entropy)\n",
    "    stat_c.restart_cycle()\n",
    "    KK.append(Knew)"
   ]
  },
  {
   "cell_type": "code",
   "execution_count": 7,
   "metadata": {},
   "outputs": [
    {
     "data": {
      "text/plain": [
       "0"
      ]
     },
     "execution_count": 7,
     "metadata": {},
     "output_type": "execute_result"
    }
   ],
   "source": [
    "len(particle_squeue)"
   ]
  },
  {
   "cell_type": "code",
   "execution_count": 8,
   "metadata": {},
   "outputs": [
    {
     "data": {
      "text/plain": [
       "[<matplotlib.lines.Line2D at 0x20fa3f89ab0>]"
      ]
     },
     "execution_count": 8,
     "metadata": {},
     "output_type": "execute_result"
    },
    {
     "data": {
      "image/png": "[encoded data removed]",
      "text/plain": [
       "<Figure size 640x480 with 1 Axes>"
      ]
     },
     "metadata": {},
     "output_type": "display_data"
    }
   ],
   "source": [
    "plt.plot(KK)"
   ]
  },
  {
   "cell_type": "code",
   "execution_count": 9,
   "metadata": {},
   "outputs": [
    {
     "data": {
      "text/plain": [
       "[<matplotlib.lines.Line2D at 0x20fa0c3d720>]"
      ]
     },
     "execution_count": 9,
     "metadata": {},
     "output_type": "execute_result"
    },
    {
     "data": {
      "image/png": "[encoded data removed]",
      "text/plain": [
       "<Figure size 640x480 with 1 Axes>"
      ]
     },
     "metadata": {},
     "output_type": "display_data"
    }
   ],
   "source": [
    "plt.plot(HH)"
   ]
  },
  {
   "cell_type": "code",
   "execution_count": 10,
   "metadata": {},
   "outputs": [
    {
     "name": "stdout",
     "output_type": "stream",
     "text": [
      "0\n",
      "1\n",
      "2\n",
      "3\n",
      "4\n",
      "5\n",
      "6\n",
      "7\n",
      "8\n",
      "9\n",
      "10\n",
      "11\n",
      "12\n",
      "13\n",
      "14\n",
      "15\n",
      "16\n",
      "17\n",
      "18\n",
      "19\n",
      "20\n",
      "21\n",
      "22\n",
      "23\n",
      "24\n",
      "25\n",
      "26\n",
      "27\n",
      "28\n",
      "29\n",
      "30\n",
      "31\n",
      "32\n",
      "33\n",
      "34\n",
      "35\n",
      "36\n",
      "37\n",
      "38\n",
      "39\n",
      "40\n",
      "41\n",
      "42\n",
      "43\n",
      "44\n",
      "45\n",
      "46\n",
      "47\n",
      "48\n",
      "49\n",
      "50\n",
      "51\n",
      "52\n",
      "53\n",
      "54\n",
      "55\n",
      "56\n",
      "57\n",
      "58\n",
      "59\n",
      "60\n",
      "61\n",
      "62\n",
      "63\n",
      "64\n",
      "65\n",
      "66\n",
      "67\n",
      "68\n",
      "69\n",
      "70\n",
      "71\n",
      "72\n",
      "73\n",
      "74\n",
      "75\n",
      "76\n",
      "77\n",
      "78\n",
      "79\n",
      "80\n",
      "81\n",
      "82\n",
      "83\n",
      "84\n",
      "85\n",
      "86\n",
      "87\n",
      "88\n",
      "89\n",
      "90\n",
      "91\n",
      "92\n",
      "93\n",
      "94\n",
      "95\n",
      "96\n",
      "97\n",
      "98\n",
      "99\n"
     ]
    }
   ],
   "source": [
    "for ii in range(int(GV.Nactive)):\n",
    "    tally.iter += 1\n",
    "    phy_c.initialize_population(source,particle_squeue,domain)\n",
    "    print(ii)\n",
    "    Keff = KK[-1]\n",
    "    Knew = 0\n",
    "    source.reset_source()\n",
    "    while len(particle_squeue)>0:\n",
    "        nn = particle_squeue.pop(0)\n",
    "        while nn.eof > 0:\n",
    "            nn.position = phy_c.sample_free_flight(nn,domain)\n",
    "            if geo_c.is_outofbound(nn,'space'):\n",
    "                nn.eof = 0\n",
    "            else:\n",
    "                stat_c.count_interaction(tally,nn,domain)\n",
    "                Knew += phy_c.implicit_fission(nn,domain,source, Keff)\n",
    "                # aggiorno i dati della particella dopo l'interazione\n",
    "                nn.energy = phy_c.sample_energy_stepf(nn,domain)\n",
    "                nn.direction = geo_m.direction.get_rnd_direction()\n",
    "                nn.weight = phy_c.implicit_capture(nn,domain)\n",
    "                # controllo l'energia\n",
    "                if geo_c.is_outofbound(nn,'energy') is True:\n",
    "                    nn.eof = 0\n",
    "                else:\n",
    "                    # russian roulette e splitting\n",
    "                    stat_c.russian_roulette(nn)\n",
    "                    stat_c.splitting(nn,particle_squeue)\n",
    "    stat_c.wellford(tally)\n",
    "    HH.append(source.s_entropy)\n",
    "    stat_c.restart_cycle()\n",
    "    KK.append(Knew)"
   ]
  },
  {
   "cell_type": "code",
   "execution_count": 11,
   "metadata": {},
   "outputs": [
    {
     "name": "stderr",
     "output_type": "stream",
     "text": [
      "c:\\Users\\simon\\Documents\\GitHub\\Transport-code-v.3\\models\\statistic_model.py:46: RuntimeWarning: invalid value encountered in divide\n",
      "  return aa/self.mean\n"
     ]
    }
   ],
   "source": [
    "sigma = tally.RSD\n",
    "stat_c.normalization(tally)\n",
    "avg = tally.avg\n",
    "#avg = avg.ravel()\n",
    "#sigma = sigma.ravel()"
   ]
  },
  {
   "cell_type": "code",
   "execution_count": 12,
   "metadata": {},
   "outputs": [],
   "source": [
    "# dE = np.diff(GV.Groups)\n",
    "# yy = np.zeros(len(tally.spaceref))\n",
    "# yrr = np.zeros(len(tally.spaceref))\n",
    "# for ii in range(len(avg)):\n",
    "#     yy += avg[ii]*dE[ii]\n",
    "#     yrr += sigma[ii]\n"
   ]
  },
  {
   "cell_type": "code",
   "execution_count": 13,
   "metadata": {},
   "outputs": [],
   "source": [
    "#xx = np.sin(tally.spaceref/GV.LEnd)/tally.spaceref"
   ]
  },
  {
   "cell_type": "code",
   "execution_count": 14,
   "metadata": {},
   "outputs": [],
   "source": [
    "# plt.errorbar(tally.spaceref,yy/GV.Nstories,yerr=2*sigma[-1]*yy/GV.Nstories,capsize=6)\n",
    "# #plt.plot(tally.spaceref,xx)\n",
    "# #plt.yscale('log')\n",
    "# plt.show()"
   ]
  },
  {
   "cell_type": "code",
   "execution_count": 15,
   "metadata": {},
   "outputs": [],
   "source": [
    "from math import pi"
   ]
  },
  {
   "cell_type": "code",
   "execution_count": 16,
   "metadata": {},
   "outputs": [
    {
     "data": {
      "text/plain": [
       "(99, 1)"
      ]
     },
     "execution_count": 16,
     "metadata": {},
     "output_type": "execute_result"
    }
   ],
   "source": [
    "avg.shape"
   ]
  },
  {
   "cell_type": "code",
   "execution_count": 17,
   "metadata": {},
   "outputs": [],
   "source": [
    "zz = np.zeros(len(GV.Groups)-1)\n",
    "zerr = np.zeros(len(GV.Groups)-1)\n",
    "for jj in range(len(zz)):\n",
    "    for ii in range(len(tally.spaceref)):\n",
    "        zz[jj] += avg[jj][ii]*1/(4/3*pi*(tally.spacerange[ii+1]**3-tally.spacerange[ii]**3))\n",
    "        zerr[jj] += sigma[jj][ii]"
   ]
  },
  {
   "cell_type": "code",
   "execution_count": 18,
   "metadata": {},
   "outputs": [
    {
     "data": {
      "image/png": "[encoded data removed]",
      "text/plain": [
       "<Figure size 640x480 with 1 Axes>"
      ]
     },
     "metadata": {},
     "output_type": "display_data"
    }
   ],
   "source": [
    "plt.errorbar(tally.energyref/1E6,zz/GV.Nstories,yerr=2*zerr*zz/GV.Nstories,capsize=6)\n",
    "plt.xlabel('energy [MeV]')\n",
    "plt.ylabel(r'$\\Phi [-/eV/s]$')\n",
    "plt.title('Integrated flux Godiva')\n",
    "plt.yscale('log')\n",
    "plt.xscale('log')\n",
    "plt.xlim(left=1E-4)\n",
    "plt.show()"
   ]
  }
 ],
 "metadata": {
  "kernelspec": {
   "display_name": "base",
   "language": "python",
   "name": "python3"
  },
  "language_info": {
   "codemirror_mode": {
    "name": "ipython",
    "version": 3
   },
   "file_extension": ".py",
   "mimetype": "text/x-python",
   "name": "python",
   "nbconvert_exporter": "python",
   "pygments_lexer": "ipython3",
   "version": "3.10.12"
  }
 },
 "nbformat": 4,
 "nbformat_minor": 2
}
