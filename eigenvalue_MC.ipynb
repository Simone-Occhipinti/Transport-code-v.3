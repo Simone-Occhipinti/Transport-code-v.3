{
 "cells": [
  {
   "cell_type": "markdown",
   "metadata": {},
   "source": [
    "Eigenvalue MC code"
   ]
  },
  {
   "cell_type": "code",
   "execution_count": 1,
   "metadata": {},
   "outputs": [],
   "source": [
    "import numpy as np\n",
    "import numpy.random as rnd\n",
    "import matplotlib.pyplot as plt\n",
    "import os\n",
    "\n",
    "from models import globalvariables as GV\n",
    "from models import geometry_models as geo_m\n",
    "from models import physic_model as phy_m\n",
    "from models import material_model as mat_m\n",
    "from models import statistic_model as stat_m\n",
    "\n",
    "from controllers import geometry_controller as geo_c\n",
    "from controllers import physics_controller as phy_c\n",
    "from controllers import material_controller as mat_c\n",
    "from controllers import statistic_controller as stat_c"
   ]
  },
  {
   "cell_type": "markdown",
   "metadata": {},
   "source": [
    "Import data"
   ]
  },
  {
   "cell_type": "code",
   "execution_count": 2,
   "metadata": {},
   "outputs": [],
   "source": [
    "# Base directory\n",
    "base_dir = 'cross_sections_Janis'\n",
    "\n",
    "U238_total = np.loadtxt(os.path.join(base_dir, 'U238', 'U238_total.csv'), delimiter=';', skiprows=3)\n",
    "U238_scattering = np.loadtxt(os.path.join(base_dir, 'U238', 'U238_scattering.csv'), delimiter=';', skiprows=3)\n",
    "U238_fission = np.loadtxt(os.path.join(base_dir, 'U238', 'U238_fission.csv'), delimiter=';', skiprows=3)\n",
    "U238_nu = np.loadtxt(os.path.join(base_dir, 'U238', 'U238_nu.csv'), delimiter=';', skiprows=3)\n",
    "\n",
    "U235_total = np.loadtxt(os.path.join(base_dir, 'U235', 'U235_total.csv'), delimiter=';', skiprows=3)\n",
    "U235_scattering = np.loadtxt(os.path.join(base_dir, 'U235', 'U235_scattering.csv'), delimiter=';', skiprows=3)\n",
    "U235_fission = np.loadtxt(os.path.join(base_dir, 'U235', 'U235_fission.csv'), delimiter=';', skiprows=3)\n",
    "U235_nu = np.loadtxt(os.path.join(base_dir, 'U235', 'U235_nu.csv'), delimiter=';', skiprows=3)\n",
    "\n",
    "U234_total = np.loadtxt(os.path.join(base_dir, 'U234', 'U234_total.csv'), delimiter=';', skiprows=3)\n",
    "U234_scattering = np.loadtxt(os.path.join(base_dir, 'U234', 'U234_scattering.csv'), delimiter=';', skiprows=3)\n",
    "U234_fission = np.loadtxt(os.path.join(base_dir, 'U234', 'U234_fission.csv'), delimiter=';', skiprows=3)\n",
    "U234_nu = np.loadtxt(os.path.join(base_dir, 'U234', 'U234_nu.csv'), delimiter=';', skiprows=3)"
   ]
  },
  {
   "cell_type": "markdown",
   "metadata": {},
   "source": [
    "Create isotopes"
   ]
  },
  {
   "cell_type": "code",
   "execution_count": 3,
   "metadata": {},
   "outputs": [],
   "source": [
    "uranium238 = mat_m.isotope(92,238,4.4984E21,U238_total[:,0],U238_total[:,1],U238_scattering[:,1],U238_fission[:,1],U238_nu[:,1])\n",
    "uranium235 = mat_m.isotope(92,235,4.4994E22,U235_total[:,0],U235_total[:,1],U235_scattering[:,1],U235_fission[:,1],U235_nu[:,1])\n",
    "uranium234 = mat_m.isotope(92,234,4.9184E20,U234_total[:,0],U234_total[:,1],U234_scattering[:,1],U234_fission[:,1],U234_nu[:,1])\n",
    "source = phy_m.source(GV.Nstories,GV.LL,1000,GV.SOURCE_POSITION,1.,'watt')\n",
    "particle_squeue = []"
   ]
  },
  {
   "cell_type": "markdown",
   "metadata": {},
   "source": [
    "Create materials"
   ]
  },
  {
   "cell_type": "code",
   "execution_count": 4,
   "metadata": {},
   "outputs": [],
   "source": [
    "core_list = [uranium238, uranium235, uranium234]\n",
    "core = mat_m.material(core_list)"
   ]
  },
  {
   "cell_type": "markdown",
   "metadata": {},
   "source": [
    "Tally creations"
   ]
  },
  {
   "cell_type": "code",
   "execution_count": 5,
   "metadata": {},
   "outputs": [],
   "source": [
    "distribution = [(core,0,GV.LEnd)]\n",
    "domain = geo_m.domain(distribution,GV.LL,1000,GV.EE,1000,True)\n",
    "tally = stat_m.tally(GV.LL,200)\n",
    "KK = [GV.Kin,GV.Kin]\n",
    "Keff = KK[-1]"
   ]
  },
  {
   "cell_type": "markdown",
   "metadata": {},
   "source": [
    "Monte Carlo code"
   ]
  },
  {
   "cell_type": "code",
   "execution_count": 6,
   "metadata": {},
   "outputs": [
    {
     "name": "stdout",
     "output_type": "stream",
     "text": [
      "0\n"
     ]
    },
    {
     "ename": "KeyboardInterrupt",
     "evalue": "",
     "output_type": "error",
     "traceback": [
      "\u001b[1;31m---------------------------------------------------------------------------\u001b[0m",
      "\u001b[1;31mKeyboardInterrupt\u001b[0m                         Traceback (most recent call last)",
      "Cell \u001b[1;32mIn[6], line 3\u001b[0m\n\u001b[0;32m      1\u001b[0m \u001b[38;5;28;01mfor\u001b[39;00m ii \u001b[38;5;129;01min\u001b[39;00m \u001b[38;5;28mrange\u001b[39m(\u001b[38;5;28mint\u001b[39m(GV\u001b[38;5;241m.\u001b[39mNskip)):\n\u001b[0;32m      2\u001b[0m     ww \u001b[38;5;241m=\u001b[39m GV\u001b[38;5;241m.\u001b[39mNstories\u001b[38;5;241m/\u001b[39msource\u001b[38;5;241m.\u001b[39mtot_generated\u001b[38;5;241m*\u001b[39mKeff\n\u001b[1;32m----> 3\u001b[0m     \u001b[43mphy_c\u001b[49m\u001b[38;5;241;43m.\u001b[39;49m\u001b[43mgenerate_population\u001b[49m\u001b[43m(\u001b[49m\u001b[43msource\u001b[49m\u001b[43m,\u001b[49m\u001b[43mww\u001b[49m\u001b[43m,\u001b[49m\u001b[43mparticle_squeue\u001b[49m\u001b[43m,\u001b[49m\u001b[43mdomain\u001b[49m\u001b[43m)\u001b[49m\n\u001b[0;32m      4\u001b[0m     \u001b[38;5;28mprint\u001b[39m(ii)\n\u001b[0;32m      5\u001b[0m     Keff \u001b[38;5;241m=\u001b[39m KK[\u001b[38;5;241m-\u001b[39m\u001b[38;5;241m1\u001b[39m]\n",
      "File \u001b[1;32mc:\\Users\\simon\\Documents\\GitHub\\Transport-code-v.3\\controllers\\physics_controller.py:27\u001b[0m, in \u001b[0;36mgenerate_population\u001b[1;34m(ss, ww, PS, mat)\u001b[0m\n\u001b[0;32m     25\u001b[0m \u001b[38;5;28;01mfor\u001b[39;00m ii \u001b[38;5;129;01min\u001b[39;00m \u001b[38;5;28mrange\u001b[39m(\u001b[38;5;28mlen\u001b[39m(ss\u001b[38;5;241m.\u001b[39mspacedistribution)):\n\u001b[0;32m     26\u001b[0m     \u001b[38;5;28;01mfor\u001b[39;00m _ \u001b[38;5;129;01min\u001b[39;00m \u001b[38;5;28mrange\u001b[39m(ss\u001b[38;5;241m.\u001b[39mn_generated[ii]):\n\u001b[1;32m---> 27\u001b[0m         PS\u001b[38;5;241m.\u001b[39mappend(\u001b[43mgenerate_new_particle\u001b[49m\u001b[43m(\u001b[49m\u001b[43mss\u001b[49m\u001b[43m,\u001b[49m\u001b[43mww\u001b[49m\u001b[43m,\u001b[49m\u001b[43mmat\u001b[49m\u001b[43m,\u001b[49m\u001b[43mss\u001b[49m\u001b[38;5;241;43m.\u001b[39;49m\u001b[43mspacedistribution\u001b[49m\u001b[43m[\u001b[49m\u001b[43mii\u001b[49m\u001b[43m]\u001b[49m\u001b[43m)\u001b[49m)\n",
      "File \u001b[1;32mc:\\Users\\simon\\Documents\\GitHub\\Transport-code-v.3\\controllers\\physics_controller.py:20\u001b[0m, in \u001b[0;36mgenerate_new_particle\u001b[1;34m(ss, ww, mat, pp)\u001b[0m\n\u001b[0;32m     18\u001b[0m mat_index \u001b[38;5;241m=\u001b[39m mat_c\u001b[38;5;241m.\u001b[39mfind_position(pp,mat)\n\u001b[0;32m     19\u001b[0m new_dir \u001b[38;5;241m=\u001b[39m geo\u001b[38;5;241m.\u001b[39mdirection\u001b[38;5;241m.\u001b[39mget_rnd_direction()\n\u001b[1;32m---> 20\u001b[0m new_energy \u001b[38;5;241m=\u001b[39m \u001b[43mss\u001b[49m\u001b[38;5;241;43m.\u001b[39;49m\u001b[43mget_energy\u001b[49m\u001b[43m(\u001b[49m\u001b[43mmat\u001b[49m\u001b[38;5;241;43m.\u001b[39;49m\u001b[43mmaterials\u001b[49m\u001b[43m[\u001b[49m\u001b[43mmat_index\u001b[49m\u001b[43m]\u001b[49m\u001b[43m)\u001b[49m\n\u001b[0;32m     21\u001b[0m out \u001b[38;5;241m=\u001b[39m phy\u001b[38;5;241m.\u001b[39mparticle(rr,new_dir,new_energy,ww)\n\u001b[0;32m     22\u001b[0m \u001b[38;5;28;01mreturn\u001b[39;00m out\n",
      "File \u001b[1;32mc:\\Users\\simon\\Documents\\GitHub\\Transport-code-v.3\\models\\physic_model.py:65\u001b[0m, in \u001b[0;36msource.get_energy\u001b[1;34m(self, mat)\u001b[0m\n\u001b[0;32m     63\u001b[0m         SS \u001b[38;5;241m=\u001b[39m np\u001b[38;5;241m.\u001b[39mtrapz(mat\u001b[38;5;241m.\u001b[39mnu\u001b[38;5;241m*\u001b[39mmat\u001b[38;5;241m.\u001b[39mmacro_fission,mat\u001b[38;5;241m.\u001b[39menergy)\n\u001b[0;32m     64\u001b[0m         ff \u001b[38;5;241m=\u001b[39m \u001b[38;5;28;01mlambda\u001b[39;00m eout: mat\u001b[38;5;241m.\u001b[39mnu_avg(eout)\u001b[38;5;241m*\u001b[39mmat\u001b[38;5;241m.\u001b[39mmacro_xs_fission(eout)\u001b[38;5;241m/\u001b[39mSS\n\u001b[1;32m---> 65\u001b[0m         out \u001b[38;5;241m=\u001b[39m \u001b[43mstat\u001b[49m\u001b[38;5;241;43m.\u001b[39;49m\u001b[43mrejection\u001b[49m\u001b[43m(\u001b[49m\u001b[43mff\u001b[49m\u001b[43m,\u001b[49m\u001b[43mmat\u001b[49m\u001b[38;5;241;43m.\u001b[39;49m\u001b[43menergy\u001b[49m\u001b[43m)\u001b[49m\n\u001b[0;32m     66\u001b[0m \u001b[38;5;28;01melif\u001b[39;00m \u001b[38;5;28mself\u001b[39m\u001b[38;5;241m.\u001b[39mtype \u001b[38;5;241m==\u001b[39m \u001b[38;5;124m'\u001b[39m\u001b[38;5;124mfixed\u001b[39m\u001b[38;5;124m'\u001b[39m:\n\u001b[0;32m     67\u001b[0m     out \u001b[38;5;241m=\u001b[39m GV\u001b[38;5;241m.\u001b[39mEREF\n",
      "File \u001b[1;32mc:\\Users\\simon\\Documents\\GitHub\\Transport-code-v.3\\models\\statistic_model.py:51\u001b[0m, in \u001b[0;36mrejection\u001b[1;34m(ff, vett)\u001b[0m\n\u001b[0;32m     49\u001b[0m yy \u001b[38;5;241m=\u001b[39m []\n\u001b[0;32m     50\u001b[0m \u001b[38;5;28;01mfor\u001b[39;00m ii \u001b[38;5;129;01min\u001b[39;00m vett:\n\u001b[1;32m---> 51\u001b[0m     yy\u001b[38;5;241m.\u001b[39mappend(\u001b[43mff\u001b[49m\u001b[43m(\u001b[49m\u001b[43mii\u001b[49m\u001b[43m)\u001b[49m)\n\u001b[0;32m     52\u001b[0m yy \u001b[38;5;241m=\u001b[39m np\u001b[38;5;241m.\u001b[39marray(yy)\n\u001b[0;32m     53\u001b[0m MM \u001b[38;5;241m=\u001b[39m np\u001b[38;5;241m.\u001b[39mmax(yy)\n",
      "File \u001b[1;32mc:\\Users\\simon\\Documents\\GitHub\\Transport-code-v.3\\models\\physic_model.py:64\u001b[0m, in \u001b[0;36msource.get_energy.<locals>.<lambda>\u001b[1;34m(eout)\u001b[0m\n\u001b[0;32m     62\u001b[0m     \u001b[38;5;28;01melse\u001b[39;00m:\n\u001b[0;32m     63\u001b[0m         SS \u001b[38;5;241m=\u001b[39m np\u001b[38;5;241m.\u001b[39mtrapz(mat\u001b[38;5;241m.\u001b[39mnu\u001b[38;5;241m*\u001b[39mmat\u001b[38;5;241m.\u001b[39mmacro_fission,mat\u001b[38;5;241m.\u001b[39menergy)\n\u001b[1;32m---> 64\u001b[0m         ff \u001b[38;5;241m=\u001b[39m \u001b[38;5;28;01mlambda\u001b[39;00m eout: \u001b[43mmat\u001b[49m\u001b[38;5;241;43m.\u001b[39;49m\u001b[43mnu_avg\u001b[49m\u001b[43m(\u001b[49m\u001b[43meout\u001b[49m\u001b[43m)\u001b[49m\u001b[38;5;241m*\u001b[39mmat\u001b[38;5;241m.\u001b[39mmacro_xs_fission(eout)\u001b[38;5;241m/\u001b[39mSS\n\u001b[0;32m     65\u001b[0m         out \u001b[38;5;241m=\u001b[39m stat\u001b[38;5;241m.\u001b[39mrejection(ff,mat\u001b[38;5;241m.\u001b[39menergy)\n\u001b[0;32m     66\u001b[0m \u001b[38;5;28;01melif\u001b[39;00m \u001b[38;5;28mself\u001b[39m\u001b[38;5;241m.\u001b[39mtype \u001b[38;5;241m==\u001b[39m \u001b[38;5;124m'\u001b[39m\u001b[38;5;124mfixed\u001b[39m\u001b[38;5;124m'\u001b[39m:\n",
      "File \u001b[1;32mc:\\Users\\simon\\Documents\\GitHub\\Transport-code-v.3\\models\\material_model.py:87\u001b[0m, in \u001b[0;36mmaterial.nu_avg\u001b[1;34m(self, en)\u001b[0m\n\u001b[0;32m     85\u001b[0m     out \u001b[38;5;241m=\u001b[39m \u001b[38;5;28mself\u001b[39m\u001b[38;5;241m.\u001b[39mnu[\u001b[38;5;241m0\u001b[39m]\n\u001b[0;32m     86\u001b[0m \u001b[38;5;28;01melse\u001b[39;00m:\n\u001b[1;32m---> 87\u001b[0m     index \u001b[38;5;241m=\u001b[39m \u001b[43mnp\u001b[49m\u001b[38;5;241;43m.\u001b[39;49m\u001b[43mwhere\u001b[49m\u001b[43m(\u001b[49m\u001b[38;5;28;43mself\u001b[39;49m\u001b[38;5;241;43m.\u001b[39;49m\u001b[43menergy\u001b[49m\u001b[38;5;241;43m>\u001b[39;49m\u001b[43men\u001b[49m\u001b[43m)\u001b[49m[\u001b[38;5;241m0\u001b[39m][\u001b[38;5;241m0\u001b[39m]\n\u001b[0;32m     88\u001b[0m     out \u001b[38;5;241m=\u001b[39m np\u001b[38;5;241m.\u001b[39minterp(en, [\u001b[38;5;28mself\u001b[39m\u001b[38;5;241m.\u001b[39menergy[index\u001b[38;5;241m-\u001b[39m\u001b[38;5;241m1\u001b[39m],\u001b[38;5;28mself\u001b[39m\u001b[38;5;241m.\u001b[39menergy[index]], [\u001b[38;5;28mself\u001b[39m\u001b[38;5;241m.\u001b[39mnu[index\u001b[38;5;241m-\u001b[39m\u001b[38;5;241m1\u001b[39m],\u001b[38;5;28mself\u001b[39m\u001b[38;5;241m.\u001b[39mnu[index]])\n\u001b[0;32m     89\u001b[0m \u001b[38;5;28;01mreturn\u001b[39;00m out\n",
      "\u001b[1;31mKeyboardInterrupt\u001b[0m: "
     ]
    }
   ],
   "source": [
    "for ii in range(int(GV.Nskip)):\n",
    "    ww = GV.Nstories/source.tot_generated*Keff\n",
    "    phy_c.generate_population(source,ww,particle_squeue,domain)\n",
    "    print(ii)\n",
    "    Keff = KK[-1]\n",
    "    Knew = 0\n",
    "    source.reset_source()\n",
    "    while len(particle_squeue)>0:\n",
    "        nn = particle_squeue.pop(0)\n",
    "        while nn.eof > 0:\n",
    "            nn.position = phy_c.sample_free_flight(nn,domain)\n",
    "            if geo_c.is_outofbound(nn,'space'):\n",
    "                nn.eof = 0\n",
    "            else:\n",
    "                Knew += phy_c.implicit_fission(nn,domain,source, Keff)\n",
    "                # aggiorno i dati della particella dopo l'interazione\n",
    "                nn.energy = phy_c.sample_energy_stepf(nn,domain)\n",
    "                nn.direction = geo_m.direction.get_rnd_direction()\n",
    "                nn.weight = phy_c.new_weight(nn,domain)\n",
    "                # controllo l'energia\n",
    "                if geo_c.is_outofbound(nn,'energy') is True:\n",
    "                    nn.eof = 0\n",
    "                else:\n",
    "                    # russian roulette e splitting\n",
    "                    stat_c.russian_roulette(nn)\n",
    "                    stat_c.splitting(nn,particle_squeue)\n",
    "    source.s_entropy()\n",
    "    stat_c.restart_cycle()\n",
    "    KK.append(Knew)"
   ]
  },
  {
   "cell_type": "code",
   "execution_count": 7,
   "metadata": {},
   "outputs": [
    {
     "data": {
      "text/plain": [
       "[<matplotlib.lines.Line2D at 0x1ddcb808370>]"
      ]
     },
     "execution_count": 7,
     "metadata": {},
     "output_type": "execute_result"
    },
    {
     "data": {
      "image/png": "[encoded data removed]",
      "text/plain": [
       "<Figure size 640x480 with 1 Axes>"
      ]
     },
     "metadata": {},
     "output_type": "display_data"
    }
   ],
   "source": [
    "plt.plot(KK)"
   ]
  }
 ],
 "metadata": {
  "kernelspec": {
   "display_name": "base",
   "language": "python",
   "name": "python3"
  },
  "language_info": {
   "codemirror_mode": {
    "name": "ipython",
    "version": 3
   },
   "file_extension": ".py",
   "mimetype": "text/x-python",
   "name": "python",
   "nbconvert_exporter": "python",
   "pygments_lexer": "ipython3",
   "version": "3.10.12"
  }
 },
 "nbformat": 4,
 "nbformat_minor": 2
}
