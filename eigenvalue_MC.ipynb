{
 "cells": [
  {
   "cell_type": "markdown",
   "metadata": {},
   "source": [
    "Eigenvalue MC code"
   ]
  },
  {
   "cell_type": "code",
   "execution_count": 1,
   "metadata": {},
   "outputs": [],
   "source": [
    "import numpy as np\n",
    "import numpy.random as rnd\n",
    "import matplotlib.pyplot as plt\n",
    "import os\n",
    "\n",
    "from models import globalvariables as GV\n",
    "from models import geometry_models as geo_m\n",
    "from models import physic_model as phy_m\n",
    "from models import material_model as mat_m\n",
    "from models import statistic_model as stat_m\n",
    "\n",
    "from controllers import geometry_controller as geo_c\n",
    "from controllers import physics_controller as phy_c\n",
    "from controllers import material_controller as mat_c\n",
    "from controllers import statistic_controller as stat_c"
   ]
  },
  {
   "cell_type": "markdown",
   "metadata": {},
   "source": [
    "Import data"
   ]
  },
  {
   "cell_type": "code",
   "execution_count": 2,
   "metadata": {},
   "outputs": [],
   "source": [
    "# Base directory\n",
    "base_dir = 'cross_sections_Janis'\n",
    "\n",
    "U238_total = np.loadtxt(os.path.join(base_dir, 'U238', 'U238_total.csv'), delimiter=';', skiprows=3)\n",
    "U238_scattering = np.loadtxt(os.path.join(base_dir, 'U238', 'U238_scattering.csv'), delimiter=';', skiprows=3)\n",
    "U238_fission = np.loadtxt(os.path.join(base_dir, 'U238', 'U238_fission.csv'), delimiter=';', skiprows=3)\n",
    "U238_nu = np.loadtxt(os.path.join(base_dir, 'U238', 'U238_nu.csv'), delimiter=';', skiprows=3)\n",
    "\n",
    "U235_total = np.loadtxt(os.path.join(base_dir, 'U235', 'U235_total.csv'), delimiter=';', skiprows=3)\n",
    "U235_scattering = np.loadtxt(os.path.join(base_dir, 'U235', 'U235_scattering.csv'), delimiter=';', skiprows=3)\n",
    "U235_fission = np.loadtxt(os.path.join(base_dir, 'U235', 'U235_fission.csv'), delimiter=';', skiprows=3)\n",
    "U235_nu = np.loadtxt(os.path.join(base_dir, 'U235', 'U235_nu.csv'), delimiter=';', skiprows=3)\n",
    "\n",
    "U234_total = np.loadtxt(os.path.join(base_dir, 'U234', 'U234_total.csv'), delimiter=';', skiprows=3)\n",
    "U234_scattering = np.loadtxt(os.path.join(base_dir, 'U234', 'U234_scattering.csv'), delimiter=';', skiprows=3)\n",
    "U234_fission = np.loadtxt(os.path.join(base_dir, 'U234', 'U234_fission.csv'), delimiter=';', skiprows=3)\n",
    "U234_nu = np.loadtxt(os.path.join(base_dir, 'U234', 'U234_nu.csv'), delimiter=';', skiprows=3)"
   ]
  },
  {
   "cell_type": "markdown",
   "metadata": {},
   "source": [
    "Create isotopes"
   ]
  },
  {
   "cell_type": "code",
   "execution_count": 3,
   "metadata": {},
   "outputs": [
    {
     "ename": "TypeError",
     "evalue": "'NoneType' object is not callable",
     "output_type": "error",
     "traceback": [
      "\u001b[1;31m---------------------------------------------------------------------------\u001b[0m",
      "\u001b[1;31mTypeError\u001b[0m                                 Traceback (most recent call last)",
      "Cell \u001b[1;32mIn[3], line 4\u001b[0m\n\u001b[0;32m      2\u001b[0m uranium235 \u001b[38;5;241m=\u001b[39m mat_m\u001b[38;5;241m.\u001b[39misotope(\u001b[38;5;241m92\u001b[39m,\u001b[38;5;241m235\u001b[39m,\u001b[38;5;241m4.4994E22\u001b[39m,U235_total[:,\u001b[38;5;241m0\u001b[39m],U235_total[:,\u001b[38;5;241m1\u001b[39m],U235_scattering[:,\u001b[38;5;241m1\u001b[39m],U235_fission[:,\u001b[38;5;241m1\u001b[39m],U235_nu[:,\u001b[38;5;241m1\u001b[39m])\n\u001b[0;32m      3\u001b[0m uranium234 \u001b[38;5;241m=\u001b[39m mat_m\u001b[38;5;241m.\u001b[39misotope(\u001b[38;5;241m92\u001b[39m,\u001b[38;5;241m234\u001b[39m,\u001b[38;5;241m4.9184E20\u001b[39m,U234_total[:,\u001b[38;5;241m0\u001b[39m],U234_total[:,\u001b[38;5;241m1\u001b[39m],U234_scattering[:,\u001b[38;5;241m1\u001b[39m],U234_fission[:,\u001b[38;5;241m1\u001b[39m],U234_nu[:,\u001b[38;5;241m1\u001b[39m])\n\u001b[1;32m----> 4\u001b[0m source \u001b[38;5;241m=\u001b[39m \u001b[43mphy_m\u001b[49m\u001b[38;5;241;43m.\u001b[39;49m\u001b[43msource\u001b[49m\u001b[43m(\u001b[49m\u001b[43mGV\u001b[49m\u001b[38;5;241;43m.\u001b[39;49m\u001b[43mNstories\u001b[49m\u001b[43m,\u001b[49m\u001b[43mGV\u001b[49m\u001b[38;5;241;43m.\u001b[39;49m\u001b[43mLL\u001b[49m\u001b[43m,\u001b[49m\u001b[38;5;241;43m100\u001b[39;49m\u001b[43m,\u001b[49m\u001b[43mGV\u001b[49m\u001b[38;5;241;43m.\u001b[39;49m\u001b[43mSOURCE_POSITION\u001b[49m\u001b[43m,\u001b[49m\u001b[38;5;241;43m1.\u001b[39;49m\u001b[43m,\u001b[49m\u001b[38;5;124;43m'\u001b[39;49m\u001b[38;5;124;43mwatt\u001b[39;49m\u001b[38;5;124;43m'\u001b[39;49m\u001b[43m)\u001b[49m\n\u001b[0;32m      5\u001b[0m particle_squeue \u001b[38;5;241m=\u001b[39m []\n",
      "File \u001b[1;32mc:\\Users\\simon\\Documents\\GitHub\\Transport-code-v.3\\models\\physic_model.py:46\u001b[0m, in \u001b[0;36msource.__init__\u001b[1;34m(self, nGen, space_lim, space_n, initial_dist, intensity, type, pdf, range, pdf_log)\u001b[0m\n\u001b[0;32m     44\u001b[0m     \u001b[38;5;28mself\u001b[39m\u001b[38;5;241m.\u001b[39mspacedistribution \u001b[38;5;241m=\u001b[39m []\n\u001b[0;32m     45\u001b[0m     \u001b[38;5;28mself\u001b[39m\u001b[38;5;241m.\u001b[39mn_generated \u001b[38;5;241m=\u001b[39m []\n\u001b[1;32m---> 46\u001b[0m \u001b[38;5;28;01mfor\u001b[39;00m ii \u001b[38;5;129;01min\u001b[39;00m \u001b[38;5;28;43mrange\u001b[39;49m\u001b[43m(\u001b[49m\u001b[38;5;28;43mlen\u001b[39;49m\u001b[43m(\u001b[49m\u001b[43minitial_dist\u001b[49m\u001b[43m)\u001b[49m\u001b[43m)\u001b[49m:\n\u001b[0;32m     47\u001b[0m     \u001b[38;5;28mself\u001b[39m\u001b[38;5;241m.\u001b[39mspacedistribution[ii]\u001b[38;5;241m.\u001b[39mappend(geo\u001b[38;5;241m.\u001b[39mpoint(initial_dist[ii]))\n\u001b[0;32m     48\u001b[0m     \u001b[38;5;28mself\u001b[39m\u001b[38;5;241m.\u001b[39mn_generated[ii]\u001b[38;5;241m.\u001b[39mappend(\u001b[38;5;28mint\u001b[39m(nGen\u001b[38;5;241m/\u001b[39m\u001b[38;5;28mlen\u001b[39m(initial_dist)))\n",
      "\u001b[1;31mTypeError\u001b[0m: 'NoneType' object is not callable"
     ]
    }
   ],
   "source": [
    "uranium238 = mat_m.isotope(92,238,4.4984E21,U238_total[:,0],U238_total[:,1],U238_scattering[:,1],U238_fission[:,1],U238_nu[:,1])\n",
    "uranium235 = mat_m.isotope(92,235,4.4994E22,U235_total[:,0],U235_total[:,1],U235_scattering[:,1],U235_fission[:,1],U235_nu[:,1])\n",
    "uranium234 = mat_m.isotope(92,234,4.9184E20,U234_total[:,0],U234_total[:,1],U234_scattering[:,1],U234_fission[:,1],U234_nu[:,1])\n",
    "source = phy_m.source(GV.Nstories,GV.LL,100,GV.SOURCE_POSITION,1.,'watt')\n",
    "particle_squeue = []"
   ]
  },
  {
   "cell_type": "markdown",
   "metadata": {},
   "source": [
    "Create materials"
   ]
  },
  {
   "cell_type": "code",
   "execution_count": null,
   "metadata": {},
   "outputs": [],
   "source": [
    "core_list = [uranium238, uranium235, uranium234]\n",
    "core = mat_m.material(core_list)"
   ]
  },
  {
   "cell_type": "markdown",
   "metadata": {},
   "source": [
    "Tally creations"
   ]
  },
  {
   "cell_type": "code",
   "execution_count": null,
   "metadata": {},
   "outputs": [],
   "source": [
    "distribution = [(core,0,GV.LEnd)]\n",
    "domain = geo_m.domain(distribution,GV.LL,1000,GV.EE,1000,True)\n",
    "tally = stat_m.tally(GV.LL,200)\n",
    "KK = [GV.Kin,GV.Kin]\n",
    "Keff = KK[-1]"
   ]
  },
  {
   "cell_type": "markdown",
   "metadata": {},
   "source": [
    "Monte Carlo code"
   ]
  },
  {
   "cell_type": "code",
   "execution_count": null,
   "metadata": {},
   "outputs": [
    {
     "ename": "TypeError",
     "evalue": "object of type 'point' has no len()",
     "output_type": "error",
     "traceback": [
      "\u001b[1;31m---------------------------------------------------------------------------\u001b[0m",
      "\u001b[1;31mTypeError\u001b[0m                                 Traceback (most recent call last)",
      "Cell \u001b[1;32mIn[6], line 3\u001b[0m\n\u001b[0;32m      1\u001b[0m \u001b[38;5;28;01mfor\u001b[39;00m ii \u001b[38;5;129;01min\u001b[39;00m \u001b[38;5;28mrange\u001b[39m(\u001b[38;5;28mint\u001b[39m(GV\u001b[38;5;241m.\u001b[39mNskip)):\n\u001b[0;32m      2\u001b[0m     ww \u001b[38;5;241m=\u001b[39m GV\u001b[38;5;241m.\u001b[39mNstories\u001b[38;5;241m/\u001b[39msource\u001b[38;5;241m.\u001b[39mtot_generated\n\u001b[1;32m----> 3\u001b[0m     \u001b[43mphy_c\u001b[49m\u001b[38;5;241;43m.\u001b[39;49m\u001b[43mgenerate_population\u001b[49m\u001b[43m(\u001b[49m\u001b[43msource\u001b[49m\u001b[43m,\u001b[49m\u001b[43mww\u001b[49m\u001b[43m,\u001b[49m\u001b[43mparticle_squeue\u001b[49m\u001b[43m,\u001b[49m\u001b[43mdomain\u001b[49m\u001b[43m)\u001b[49m\n\u001b[0;32m      4\u001b[0m     \u001b[38;5;28mprint\u001b[39m(ii)\n\u001b[0;32m      5\u001b[0m     Keff \u001b[38;5;241m=\u001b[39m KK[\u001b[38;5;241m-\u001b[39m\u001b[38;5;241m1\u001b[39m]\n",
      "File \u001b[1;32mc:\\Users\\simon\\Documents\\GitHub\\Transport-code-v.3\\controllers\\physics_controller.py:23\u001b[0m, in \u001b[0;36mgenerate_population\u001b[1;34m(ss, ww, PS, mat)\u001b[0m\n\u001b[0;32m     21\u001b[0m \u001b[38;5;28;01mdef\u001b[39;00m \u001b[38;5;21mgenerate_population\u001b[39m(ss\u001b[38;5;241m=\u001b[39mphy\u001b[38;5;241m.\u001b[39msource,ww\u001b[38;5;241m=\u001b[39m\u001b[38;5;28mfloat\u001b[39m,PS\u001b[38;5;241m=\u001b[39m\u001b[38;5;28mlist\u001b[39m,mat\u001b[38;5;241m=\u001b[39mgeo\u001b[38;5;241m.\u001b[39mdomain):\n\u001b[0;32m     22\u001b[0m     \u001b[38;5;28;01mfor\u001b[39;00m ii \u001b[38;5;129;01min\u001b[39;00m \u001b[38;5;28mrange\u001b[39m(\u001b[38;5;28mlen\u001b[39m(ss\u001b[38;5;241m.\u001b[39mspacedistribution)):\n\u001b[1;32m---> 23\u001b[0m         \u001b[38;5;28;01mfor\u001b[39;00m jj \u001b[38;5;129;01min\u001b[39;00m \u001b[38;5;28mrange\u001b[39m(\u001b[38;5;28;43mlen\u001b[39;49m\u001b[43m(\u001b[49m\u001b[43mss\u001b[49m\u001b[38;5;241;43m.\u001b[39;49m\u001b[43mspacedistribution\u001b[49m\u001b[43m[\u001b[49m\u001b[43mii\u001b[49m\u001b[43m]\u001b[49m\u001b[43m)\u001b[49m):\n\u001b[0;32m     24\u001b[0m             \u001b[38;5;28;01mfor\u001b[39;00m _ \u001b[38;5;129;01min\u001b[39;00m \u001b[38;5;28mrange\u001b[39m(ss\u001b[38;5;241m.\u001b[39mn_generated[ii][jj]):\n\u001b[0;32m     25\u001b[0m                 PS\u001b[38;5;241m.\u001b[39mappend(generate_new_particle(ss,ww,mat,ss\u001b[38;5;241m.\u001b[39mspacedistribution[ii][jj]))\n",
      "\u001b[1;31mTypeError\u001b[0m: object of type 'point' has no len()"
     ]
    }
   ],
   "source": [
    "for ii in range(int(GV.Nskip)):\n",
    "    ww = GV.Nstories/source.tot_generated\n",
    "    phy_c.generate_population(source,ww,particle_squeue,domain)\n",
    "    print(ii)\n",
    "    Keff = KK[-1]\n",
    "    Knew = 0\n",
    "    source.reset_source()\n",
    "    while len(particle_squeue)>0:\n",
    "        nn = particle_squeue.pop(0)\n",
    "        while nn.eof > 0:\n",
    "            nn.position = phy_c.sample_free_flight(nn,domain)\n",
    "            if geo_c.is_outofbound(nn,'space'):\n",
    "                nn.eof = 0\n",
    "            else:\n",
    "                Knew += phy_c.implicit_fission(nn,domain,source, Keff)\n",
    "                # aggiorno i dati della particella dopo l'interazione\n",
    "                nn.energy = phy_c.sample_energy_stepf(nn,domain)\n",
    "                nn.direction = geo_m.direction.get_rnd_direction()\n",
    "                nn.weight = phy_c.new_weight(nn,domain)\n",
    "                # controllo l'energia\n",
    "                if geo_c.is_outofbound(nn,'energy') is True:\n",
    "                    nn.eof = 0\n",
    "                else:\n",
    "                    # russian roulette e splitting\n",
    "                    stat_c.russian_roulette(nn)\n",
    "                    stat_c.splitting(nn,particle_squeue)\n",
    "    source.s_entropy()\n",
    "    stat_c.restart_cycle()\n",
    "    KK.append(Knew)"
   ]
  },
  {
   "cell_type": "code",
   "execution_count": null,
   "metadata": {},
   "outputs": [
    {
     "data": {
      "text/plain": [
       "[<matplotlib.lines.Line2D at 0x15f44d22f50>]"
      ]
     },
     "execution_count": 8,
     "metadata": {},
     "output_type": "execute_result"
    },
    {
     "data": {
      "image/png": "[encoded data removed]",
      "text/plain": [
       "<Figure size 640x480 with 1 Axes>"
      ]
     },
     "metadata": {},
     "output_type": "display_data"
    }
   ],
   "source": [
    "plt.plot(KK)"
   ]
  }
 ],
 "metadata": {
  "kernelspec": {
   "display_name": "base",
   "language": "python",
   "name": "python3"
  },
  "language_info": {
   "codemirror_mode": {
    "name": "ipython",
    "version": 3
   },
   "file_extension": ".py",
   "mimetype": "text/x-python",
   "name": "python",
   "nbconvert_exporter": "python",
   "pygments_lexer": "ipython3",
   "version": "3.10.12"
  }
 },
 "nbformat": 4,
 "nbformat_minor": 2
}
