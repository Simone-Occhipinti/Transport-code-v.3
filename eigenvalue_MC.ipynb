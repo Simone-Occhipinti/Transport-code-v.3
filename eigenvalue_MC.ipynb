{
 "cells": [
  {
   "cell_type": "markdown",
   "metadata": {},
   "source": [
    "Eigenvalue MC code"
   ]
  },
  {
   "cell_type": "code",
   "execution_count": 1,
   "metadata": {},
   "outputs": [],
   "source": [
    "import numpy as np\n",
    "import numpy.random as rnd\n",
    "import matplotlib.pyplot as plt\n",
    "import os\n",
    "\n",
    "import placzek as pcz\n",
    "\n",
    "from models import globalvariables as GV\n",
    "from models import geometry_models as geo_m\n",
    "from models import physic_model as phy_m\n",
    "from models import material_model as mat_m\n",
    "from models import statistic_model as stat_m\n",
    "\n",
    "from controllers import geometry_controller as geo_c\n",
    "from controllers import physics_controller as phy_c\n",
    "from controllers import material_controller as mat_c\n",
    "from controllers import statistic_controller as stat_c"
   ]
  },
  {
   "cell_type": "markdown",
   "metadata": {},
   "source": [
    "Import data"
   ]
  },
  {
   "cell_type": "code",
   "execution_count": 2,
   "metadata": {},
   "outputs": [],
   "source": [
    "# Base directory\n",
    "base_dir = 'cross_sections_Janis'\n",
    "\n",
    "U238_total = np.loadtxt(os.path.join(base_dir, 'U238', 'U238_total.csv'), delimiter=';', skiprows=3)\n",
    "U238_scattering = np.loadtxt(os.path.join(base_dir, 'U238', 'U238_scattering.csv'), delimiter=';', skiprows=3)\n",
    "U238_fission = np.loadtxt(os.path.join(base_dir, 'U238', 'U238_fission.csv'), delimiter=';', skiprows=3)\n",
    "U238_nu = np.loadtxt(os.path.join(base_dir, 'U238', 'U238_nu.csv'), delimiter=';', skiprows=3)\n",
    "\n",
    "U235_total = np.loadtxt(os.path.join(base_dir, 'U235', 'U235_total.csv'), delimiter=';', skiprows=3)\n",
    "U235_scattering = np.loadtxt(os.path.join(base_dir, 'U235', 'U235_scattering.csv'), delimiter=';', skiprows=3)\n",
    "U235_fission = np.loadtxt(os.path.join(base_dir, 'U235', 'U235_fission.csv'), delimiter=';', skiprows=3)\n",
    "U235_nu = np.loadtxt(os.path.join(base_dir, 'U235', 'U235_nu.csv'), delimiter=';', skiprows=3)\n",
    "\n",
    "U234_total = np.loadtxt(os.path.join(base_dir, 'U234', 'U234_total.csv'), delimiter=';', skiprows=3)\n",
    "U234_scattering = np.loadtxt(os.path.join(base_dir, 'U234', 'U234_scattering.csv'), delimiter=';', skiprows=3)\n",
    "U234_fission = np.loadtxt(os.path.join(base_dir, 'U234', 'U234_fission.csv'), delimiter=';', skiprows=3)\n",
    "U234_nu = np.loadtxt(os.path.join(base_dir, 'U234', 'U234_nu.csv'), delimiter=';', skiprows=3)"
   ]
  },
  {
   "cell_type": "markdown",
   "metadata": {},
   "source": [
    "Create isotopes"
   ]
  },
  {
   "cell_type": "code",
   "execution_count": 3,
   "metadata": {},
   "outputs": [],
   "source": [
    "uranium238 = mat_m.isotope(92,238,4.4984E21,U238_total[:,0],U238_total[:,1],U238_scattering[:,1],U238_fission[:,1],2*U238_nu[:,1])\n",
    "uranium235 = mat_m.isotope(92,235,4.4994E22,U235_total[:,0],U235_total[:,1],U235_scattering[:,1],U235_fission[:,1],2*U235_nu[:,1])\n",
    "uranium234 = mat_m.isotope(92,234,4.9184E20,U234_total[:,0],U234_total[:,1],U234_scattering[:,1],U234_fission[:,1],2*U234_nu[:,1])\n",
    "source = phy_m.source(GV.Nstories,GV.LL,1000,GV.SOURCE_POSITION,1.,'watt')\n",
    "particle_squeue = []"
   ]
  },
  {
   "cell_type": "markdown",
   "metadata": {},
   "source": [
    "Create materials"
   ]
  },
  {
   "cell_type": "code",
   "execution_count": 4,
   "metadata": {},
   "outputs": [],
   "source": [
    "core_list = [uranium238, uranium235, uranium234]\n",
    "core = mat_m.material(core_list)"
   ]
  },
  {
   "cell_type": "markdown",
   "metadata": {},
   "source": [
    "Tally creations"
   ]
  },
  {
   "cell_type": "code",
   "execution_count": 5,
   "metadata": {},
   "outputs": [],
   "source": [
    "distribution = [(core,0,GV.LEnd)]\n",
    "domain = geo_m.domain(distribution,GV.LL,1000,GV.EE,20000,True)\n",
    "tally = stat_m.tally(GV.LL,50)\n",
    "KK = [GV.Kin,GV.Kin]"
   ]
  },
  {
   "cell_type": "markdown",
   "metadata": {},
   "source": [
    "Monte Carlo code"
   ]
  },
  {
   "cell_type": "code",
   "execution_count": 6,
   "metadata": {},
   "outputs": [],
   "source": [
    "for ii in range(int(GV.Nskip)):\n",
    "    ww = GV.Nstories/source.tot_generated\n",
    "    phy_c.generate_population(source,ww,particle_squeue)\n",
    "    Keff = KK[-1]\n",
    "    Knew = 0\n",
    "    source.reset_source()\n",
    "    while len(particle_squeue)>0:\n",
    "        nn = particle_squeue.pop(0)\n",
    "        while nn.eof > 0:\n",
    "            nn.position = phy_c.sample_free_flight(nn,domain)\n",
    "            if geo_c.is_outofbound(nn,'space'):\n",
    "                nn.eof = 0\n",
    "            else:\n",
    "                Knew += phy_c.implicit_fission(nn,domain,source)\n",
    "                # aggiorno i dati della particella dopo l'interazione\n",
    "                nn.energy = phy_c.sample_energy_stepf(nn,domain)\n",
    "                nn.direction = geo_m.direction.get_rnd_direction()\n",
    "                nn.weight = phy_c.new_weight(nn,domain)\n",
    "                # controllo l'energia\n",
    "                if geo_c.is_outofbound(nn,'energy') is True:\n",
    "                    nn.eof = 0\n",
    "                else:\n",
    "                    # russian roulette e splitting\n",
    "                    stat_c.russian_roulette(nn)\n",
    "                    stat_c.splitting(nn,particle_squeue)\n",
    "    source.s_entropy()\n",
    "    stat_c.restart_cycle()\n",
    "    KK.append(Knew)"
   ]
  },
  {
   "cell_type": "code",
   "execution_count": 7,
   "metadata": {},
   "outputs": [
    {
     "data": {
      "text/plain": [
       "[<matplotlib.lines.Line2D at 0x1b5d8955750>]"
      ]
     },
     "execution_count": 7,
     "metadata": {},
     "output_type": "execute_result"
    },
    {
     "data": {
      "image/png": "[encoded data removed]",
      "text/plain": [
       "<Figure size 640x480 with 1 Axes>"
      ]
     },
     "metadata": {},
     "output_type": "display_data"
    }
   ],
   "source": [
    "plt.plot(KK)"
   ]
  }
 ],
 "metadata": {
  "kernelspec": {
   "display_name": "base",
   "language": "python",
   "name": "python3"
  },
  "language_info": {
   "codemirror_mode": {
    "name": "ipython",
    "version": 3
   },
   "file_extension": ".py",
   "mimetype": "text/x-python",
   "name": "python",
   "nbconvert_exporter": "python",
   "pygments_lexer": "ipython3",
   "version": "3.10.12"
  }
 },
 "nbformat": 4,
 "nbformat_minor": 2
}
