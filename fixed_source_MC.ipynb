{
 "cells": [
  {
   "cell_type": "markdown",
   "metadata": {},
   "source": [
    "Fixed Source MC code"
   ]
  },
  {
   "cell_type": "code",
   "execution_count": 1,
   "metadata": {},
   "outputs": [],
   "source": [
    "import numpy as np\n",
    "import numpy.random as rnd\n",
    "import matplotlib.pyplot as plt\n",
    "import os\n",
    "\n",
    "import placzek as pcz\n",
    "\n",
    "from models import globalvariables as GV\n",
    "from models import geometry_models as geo_m\n",
    "from models import physic_model as phy_m\n",
    "from models import material_model as mat_m\n",
    "from models import statistic_model as stat_m\n",
    "\n",
    "from controllers import geometry_controller as geo_c\n",
    "from controllers import physics_controller as phy_c\n",
    "from controllers import material_controller as mat_c\n",
    "from controllers import statistic_controller as stat_c"
   ]
  },
  {
   "cell_type": "markdown",
   "metadata": {},
   "source": [
    "Import data"
   ]
  },
  {
   "cell_type": "code",
   "execution_count": 2,
   "metadata": {},
   "outputs": [],
   "source": [
    "PL = 1\n",
    "LT = 1\n",
    "\n",
    "# Base directory\n",
    "base_dir = 'cross_sections_Janis'\n",
    "\n",
    "# Load data directly with os.path.join\n",
    "Cnat_total = np.loadtxt(os.path.join(base_dir, 'C', 'Cnat_total.csv'), delimiter=';', skiprows=3)\n",
    "Cnat_scattering = np.loadtxt(os.path.join(base_dir, 'C', 'Cnat_scattering.csv'), delimiter=';', skiprows=3)\n",
    "\n",
    "Fe_total = np.loadtxt(os.path.join(base_dir, 'Fe', 'Fe_total.csv'), delimiter=';', skiprows=3)\n",
    "Fe_scattering = np.loadtxt(os.path.join(base_dir, 'Fe', 'Fe_scattering.csv'), delimiter=';', skiprows=3)\n",
    "\n",
    "Onat_total = np.loadtxt(os.path.join(base_dir, 'O', 'Onat_total.csv'), delimiter=';', skiprows=3)\n",
    "Onat_scattering = np.loadtxt(os.path.join(base_dir, 'O', 'Onat_scattering.csv'), delimiter=';', skiprows=3)\n",
    "\n",
    "U238_total = np.loadtxt(os.path.join(base_dir, 'U238', 'U238_total.csv'), delimiter=';', skiprows=3)\n",
    "U238_scattering = np.loadtxt(os.path.join(base_dir, 'U238', 'U238_scattering.csv'), delimiter=';', skiprows=3)\n",
    "U238_fission = np.loadtxt(os.path.join(base_dir, 'U238', 'U238_fission.csv'), delimiter=';', skiprows=3)\n",
    "\n",
    "U235_total = np.loadtxt(os.path.join(base_dir, 'U235', 'U235_total.csv'), delimiter=';', skiprows=3)\n",
    "U235_scattering = np.loadtxt(os.path.join(base_dir, 'U235', 'U235_scattering.csv'), delimiter=';', skiprows=3)\n",
    "U235_fission = np.loadtxt(os.path.join(base_dir, 'U235', 'U235_fission.csv'), delimiter=';', skiprows=3)"
   ]
  },
  {
   "cell_type": "markdown",
   "metadata": {},
   "source": [
    "Create isotopes"
   ]
  },
  {
   "cell_type": "markdown",
   "metadata": {},
   "source": [
    "test 0D"
   ]
  },
  {
   "cell_type": "code",
   "execution_count": 3,
   "metadata": {},
   "outputs": [],
   "source": [
    "carbon = mat_m.isotope(6,12,1.1E23,Cnat_total[:,0],Cnat_total[:,1],Cnat_total[:,1])\n",
    "source = phy_m.source(GV.LL,100,GV.SOURCE_POSITION,1.,'fixed')"
   ]
  },
  {
   "cell_type": "markdown",
   "metadata": {},
   "source": [
    "test 1D"
   ]
  },
  {
   "cell_type": "code",
   "execution_count": null,
   "metadata": {},
   "outputs": [],
   "source": [
    "#carbon = mat_m.isotope(6,12,1.1E23,Cnat_total[:,0],Cnat_total[:,1],Cnat_scattering[:,1])\n",
    "#iron = mat_m.isotope(26,56,8.6E22,Fe_total[:,0],Fe_total[:,1],Fe_scattering[:,1])\n",
    "#uranium238 = mat_m.isotope(92,238,1.76E22,U238_total[:,0],U238_total[:,1],U238_scattering[:,1],U238_fission[:,1],2.5)\n",
    "#uranium235 = mat_m.isotope(92,235,4.4E21,U235_total[:,0],U235_total[:,1],U235_scattering[:,1],U235_fission[:,1],2.5)\n",
    "#source = phy_m.source(GV.LL,100,GV.SOURCE_POSITION,1.,'watt')"
   ]
  },
  {
   "cell_type": "markdown",
   "metadata": {},
   "source": [
    "Create materials"
   ]
  },
  {
   "cell_type": "code",
   "execution_count": 4,
   "metadata": {},
   "outputs": [],
   "source": [
    "core_list = [carbon]\n",
    "core = mat_m.material(core_list)\n",
    "#reflector_list = [iron,carbon]\n",
    "reflector_list = [carbon]\n",
    "reflector = mat_m.material(reflector_list)"
   ]
  },
  {
   "cell_type": "markdown",
   "metadata": {},
   "source": [
    "Tally creation"
   ]
  },
  {
   "cell_type": "code",
   "execution_count": 5,
   "metadata": {},
   "outputs": [],
   "source": [
    "#distribution = [(core,GV.L0,5),(reflector,5,GV.LEnd)]\n",
    "distribution = [(core,0,GV.LEnd)]\n",
    "domain = geo_m.domain(distribution,GV.LL,10000,GV.EE,10000,True)\n",
    "tally = stat_m.tally(GV.LL,200)"
   ]
  },
  {
   "cell_type": "markdown",
   "metadata": {},
   "source": [
    "Monte Carlo Code"
   ]
  },
  {
   "cell_type": "code",
   "execution_count": null,
   "metadata": {},
   "outputs": [],
   "source": [
    "while tally.iter <= GV.Nstories:\n",
    "    # scelgo la particella da simulare\n",
    "    nn = phy_c.choose_new_particle(source,1.)\n",
    "    while nn.eof > 0:\n",
    "        nn.position = phy_c.sample_free_flight(nn,domain)\n",
    "        if geo_c.is_outofbound(nn,'space'):\n",
    "            nn.eof = 0\n",
    "        else:\n",
    "            stat_c.count_interaction(tally,nn,domain)\n",
    "            # aggiorno i dati della particella dopo l'interazione\n",
    "            nn.energy = phy_c.sample_energy_stepf(nn,domain)\n",
    "            nn.direction = geo_m.direction.get_rnd_direction()\n",
    "            nn.weight = phy_c.new_weight(nn,domain)\n",
    "            # controllo l'energia\n",
    "            if geo_c.is_outofbound(nn,'energy'):\n",
    "                nn.eof = 0\n",
    "            else:\n",
    "                # russian roulette e splitting\n",
    "                stat_c.russian_roulette(nn)\n",
    "                stat_c.splitting(nn)\n",
    "    stat_c.wellford(tally)\n",
    "stat_c.normalization(tally)"
   ]
  },
  {
   "cell_type": "markdown",
   "metadata": {},
   "source": [
    "Results processing"
   ]
  },
  {
   "cell_type": "code",
   "execution_count": null,
   "metadata": {},
   "outputs": [],
   "source": [
    "avg = tally.avg\n",
    "sigma = tally.sigma"
   ]
  },
  {
   "cell_type": "markdown",
   "metadata": {},
   "source": [
    "plots 0D"
   ]
  },
  {
   "cell_type": "code",
   "execution_count": 7,
   "metadata": {},
   "outputs": [
    {
     "data": {
      "image/png": "[encoded data removed]",
      "text/plain": [
       "<Figure size 640x480 with 1 Axes>"
      ]
     },
     "metadata": {},
     "output_type": "display_data"
    }
   ],
   "source": [
    "\n",
    "avg = avg.ravel()\n",
    "sigma = sigma.ravel()\n",
    "\n",
    "if LT > 0:\n",
    "    xx = -np.log(tally.energyref/GV.EREF)\n",
    "    yy = avg*tally.energyref\n",
    "    sigma *= tally.energyref\n",
    "    if PL > 0:\n",
    "        plc = pcz.Lplaczek(12)\n",
    "else:\n",
    "    xx = tally.energyref\n",
    "    yy = avg\n",
    "    if PL > 0:\n",
    "        plc = pcz.adj_placzek(12,domain.materials[0].macro_xs_scattering)\n",
    "        plc[0] *= 1/GV.EREF\n",
    "\n",
    "plt.errorbar(xx, yy, yerr=sigma, fmt='o', capsize=1)\n",
    "plt.plot(xx,yy, linewidth='4' ,label='MC')\n",
    "if PL > 0:\n",
    "    plt.plot(plc[0],plc[1],linewidth='4' ,label='Placzek')\n",
    "if LT > 0:\n",
    "    plt.xlabel('u [-]')\n",
    "    plt.ylabel('F(u) [-/cm3/s]')\n",
    "else:\n",
    "    plt.ylabel('F*(E) [-/cm3/s/eV]')\n",
    "plt.legend()\n",
    "plt.show()\n",
    "\n"
   ]
  },
  {
   "cell_type": "code",
   "execution_count": null,
   "metadata": {},
   "outputs": [],
   "source": [
    "\n",
    "#xx = tally.spaceref\n",
    "#yy = np.zeros(len(avg[0]))\n",
    "#n_curves = len(avg)\n",
    "#for ii in range(len(avg)):\n",
    "#    plt.errorbar(xx,avg[ii],yerr=sigma[ii],label=f\"group {n_curves-ii}\")\n",
    "#    yy += avg[ii]\n",
    "xx = GV.Groups\n",
    "yy = []\n",
    "for ii in avg:\n",
    "    yy.append(ii[1])\n",
    "plt.plot(xx,yy)\n",
    "plt.xscale('log')\n",
    "plt.yscale('log')\n",
    "plt.legend()\n",
    "plt.show()"
   ]
  }
 ],
 "metadata": {
  "kernelspec": {
   "display_name": "venv_SO",
   "language": "python",
   "name": "python3"
  },
  "language_info": {
   "codemirror_mode": {
    "name": "ipython",
    "version": 3
   },
   "file_extension": ".py",
   "mimetype": "text/x-python",
   "name": "python",
   "nbconvert_exporter": "python",
   "pygments_lexer": "ipython3",
   "version": "3.10.14"
  }
 },
 "nbformat": 4,
 "nbformat_minor": 2
}
