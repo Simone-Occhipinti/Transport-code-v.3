{
 "cells": [
  {
   "cell_type": "markdown",
   "metadata": {},
   "source": [
    "Fixed Source MC code"
   ]
  },
  {
   "cell_type": "code",
   "execution_count": 1,
   "metadata": {},
   "outputs": [],
   "source": [
    "import numpy as np\n",
    "import numpy.random as round\n",
    "import matplotlib.pyplot as plt\n",
    "\n",
    "from models import globalvariables as GV\n",
    "from models import geometry_models as geo_m\n",
    "from models import physic_model as phy_m\n",
    "from models import material_model as mat_m\n",
    "from models import statistic_model as stat_m\n",
    "\n",
    "from controllers import geometry_controller as geo_c\n",
    "from controllers import physics_controller as phy_c\n",
    "from controllers import material_controller as mat_c\n",
    "from controllers import statistic_controller as stat_c"
   ]
  },
  {
   "cell_type": "markdown",
   "metadata": {},
   "source": [
    "Import data"
   ]
  },
  {
   "cell_type": "code",
   "execution_count": 2,
   "metadata": {},
   "outputs": [],
   "source": [
    "Cnat_total = np.loadtxt('cross_sections_Janis\\\\C\\\\Cnat_total.csv', delimiter=';',skiprows=3)\n",
    "Cnat_scattering = np.loadtxt('cross_sections_Janis\\\\C\\\\Cnat_scattering.csv', delimiter=';', skiprows=3)\n",
    "\n",
    "Fe_total = np.loadtxt('cross_sections_Janis\\\\Fe\\\\Fe_total.csv', delimiter=';',skiprows=3)\n",
    "Fe_scattering = np.loadtxt('cross_sections_Janis\\\\Fe\\\\Fe_scattering.csv', delimiter=';', skiprows=3)\n",
    "\n",
    "Onat_total = np.loadtxt('cross_sections_Janis\\\\O\\\\Onat_total.csv', delimiter=';',skiprows=3)\n",
    "Onat_scattering = np.loadtxt('cross_sections_Janis\\\\O\\\\Onat_scattering.csv', delimiter=';', skiprows=3)\n",
    "\n",
    "U238_total = np.loadtxt('cross_sections_Janis\\\\U238\\\\U238_total.csv', delimiter=';',skiprows=3)\n",
    "U238_scattering = np.loadtxt('cross_sections_Janis\\\\U238\\\\U238_scattering.csv', delimiter=';', skiprows=3)\n",
    "U238_fission = np.loadtxt('cross_sections_Janis\\\\U238\\\\U238_fission.csv', delimiter=';', skiprows=3)\n",
    "\n",
    "U235_total = np.loadtxt('cross_sections_Janis\\\\U235\\\\U235_total.csv', delimiter=';',skiprows=3)\n",
    "U235_scattering = np.loadtxt('cross_sections_Janis\\\\U235\\\\U235_scattering.csv', delimiter=';', skiprows=3)\n",
    "U235_fission = np.loadtxt('cross_sections_Janis\\\\U235\\\\U235_fission.csv', delimiter=';', skiprows=3)"
   ]
  },
  {
   "cell_type": "markdown",
   "metadata": {},
   "source": [
    "Create isotopes"
   ]
  },
  {
   "cell_type": "code",
   "execution_count": 3,
   "metadata": {},
   "outputs": [],
   "source": [
    "carbon = mat_m.isotope(6,12,1.1E23,Cnat_total[:,0],Cnat_total[:,1],Cnat_scattering[:,1])\n",
    "iron = mat_m.isotope(26,56,8.6E22,Fe_total[:,0],Fe_total[:,1],Fe_scattering[:,1])\n",
    "uranium238 = mat_m.isotope(92,238,1.76E22,U238_total[:,0],U238_total[:,1],U238_scattering[:,1],U238_fission[:,1],2.5)\n",
    "uranium235 = mat_m.isotope(92,235,4.4E21,U235_total[:,0],U235_total[:,1],U235_scattering[:,1],U235_fission[:,1],2.5)\n",
    "#source = phy_m.source(GV.LL,100,GV.SOURCE_POSITION,1.,'watt')\n",
    "source = phy_m.source(GV.LL,100,GV.SOURCE_POSITION,1.,'fixed')"
   ]
  },
  {
   "cell_type": "markdown",
   "metadata": {},
   "source": [
    "Create materials"
   ]
  },
  {
   "cell_type": "code",
   "execution_count": 4,
   "metadata": {},
   "outputs": [],
   "source": [
    "core_list = [carbon]\n",
    "core = mat_m.material(core_list)\n",
    "#reflector_list = [iron,carbon]\n",
    "#reflector = mat_m.material(reflector_list)"
   ]
  },
  {
   "cell_type": "markdown",
   "metadata": {},
   "source": [
    "Tally creation"
   ]
  },
  {
   "cell_type": "code",
   "execution_count": 5,
   "metadata": {},
   "outputs": [],
   "source": [
    "#distribution = [(core,0,4),(reflector,4,5)]\n",
    "distribution = [(core,0,0)]\n",
    "domain = geo_m.domain(distribution,GV.LL,1000,GV.EE,1000,True)\n",
    "tally = stat_m.tally(GV.LL,50)"
   ]
  },
  {
   "cell_type": "markdown",
   "metadata": {},
   "source": [
    "Monte Carlo Code"
   ]
  },
  {
   "cell_type": "code",
   "execution_count": 6,
   "metadata": {},
   "outputs": [],
   "source": [
    "while tally.iter <= GV.Nstories:\n",
    "    # scelgo la particella da simulare\n",
    "    nn = phy_c.choose_new_particle(source,1.,tally)\n",
    "    while nn.eof > 0:\n",
    "        nn.position = phy_c.sample_free_flight(nn,domain)\n",
    "        if geo_c.is_outofbound(nn,'space'):\n",
    "            nn.eof = 0\n",
    "        else:\n",
    "            stat_c.wellford(tally,nn,domain)\n",
    "            # aggiorno i dati della particella dopo l'interazione\n",
    "            nn.energy = phy_c.sample_energy_stepf(nn,domain)\n",
    "            nn.direction = geo_m.direction.get_rnd_direction()\n",
    "            nn.weight = phy_c.new_weight(nn,domain)\n",
    "            # controllo l'energia\n",
    "            if geo_c.is_outofbound(nn,'energy') is True:\n",
    "                nn.eof = 0\n",
    "            else:\n",
    "                # russian roulette e splitting\n",
    "                stat_c.russian_roulette(nn)\n",
    "                stat_c.splitting(nn)"
   ]
  },
  {
   "cell_type": "markdown",
   "metadata": {},
   "source": [
    "Results processing"
   ]
  },
  {
   "cell_type": "code",
   "execution_count": 7,
   "metadata": {},
   "outputs": [
    {
     "name": "stderr",
     "output_type": "stream",
     "text": [
      "c:\\Users\\simon\\Documents\\GitHub\\Transport-code-v.3\\controllers\\statistic_controller.py:28: RuntimeWarning: divide by zero encountered in scalar divide\n",
      "  tt.mean[ii] *= 1/diffE[ii]\n",
      "c:\\Users\\simon\\Documents\\GitHub\\Transport-code-v.3\\controllers\\statistic_controller.py:28: RuntimeWarning: invalid value encountered in multiply\n",
      "  tt.mean[ii] *= 1/diffE[ii]\n",
      "c:\\Users\\simon\\Documents\\GitHub\\Transport-code-v.3\\controllers\\statistic_controller.py:29: RuntimeWarning: divide by zero encountered in scalar divide\n",
      "  tt.variance[ii] *= 1/diffE[ii]**2\n",
      "c:\\Users\\simon\\Documents\\GitHub\\Transport-code-v.3\\controllers\\statistic_controller.py:29: RuntimeWarning: invalid value encountered in multiply\n",
      "  tt.variance[ii] *= 1/diffE[ii]**2\n",
      "No artists with labels found to put in legend.  Note that artists whose label start with an underscore are ignored when legend() is called with no argument.\n"
     ]
    },
    {
     "data": {
      "image/png": "[encoded data removed]",
      "text/plain": [
       "<Figure size 640x480 with 1 Axes>"
      ]
     },
     "metadata": {},
     "output_type": "display_data"
    }
   ],
   "source": [
    "stat_c.normalization(tally)\n",
    "avg = tally.avg\n",
    "sigma = tally.sigma\n",
    "jj = len(GV.Groups)\n",
    "#for ii in range(len(avg)):\n",
    "#    plt.errorbar(tally.energyrange[1:], avg[ii], yerr=sigma[ii], fmt='o', capsize=5)\n",
    "#    plt.plot(tally.energyrange[1:],avg[ii], label='Group{}'.format(jj))\n",
    "#    jj -= 1\n",
    "#plt.xlabel('position [cm]')\n",
    "#plt.ylabel(r'$\\Phi$ [n/cm^3 s eV]')\n",
    "plt.yscale('log')\n",
    "plt.xscale('log')\n",
    "plt.plot(tally.energyrange,avg)\n",
    "plt.legend()\n",
    "plt.show()"
   ]
  }
 ],
 "metadata": {
  "kernelspec": {
   "display_name": "base",
   "language": "python",
   "name": "python3"
  },
  "language_info": {
   "codemirror_mode": {
    "name": "ipython",
    "version": 3
   },
   "file_extension": ".py",
   "mimetype": "text/x-python",
   "name": "python",
   "nbconvert_exporter": "python",
   "pygments_lexer": "ipython3",
   "version": "3.10.12"
  }
 },
 "nbformat": 4,
 "nbformat_minor": 2
}
